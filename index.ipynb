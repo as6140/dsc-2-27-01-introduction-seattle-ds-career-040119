{
 "cells": [
  {
   "cell_type": "markdown",
   "metadata": {},
   "source": [
    "# Introduction"
   ]
  },
  {
   "cell_type": "markdown",
   "metadata": {},
   "source": [
    "## Introduction\n",
    "This lesson summarizes the topics we'll be covering in section 27 and why they'll be important to you as a data scientist."
   ]
  },
  {
   "cell_type": "markdown",
   "metadata": {},
   "source": [
    "## Objectives\n",
    "You will be able to:\n",
    "* Understand and explain what is covered in this section\n",
    "* Understand and explain why the section will help you to become a data scientist"
   ]
  },
  {
   "cell_type": "markdown",
   "metadata": {},
   "source": [
    "## Distance Metrics and k-Nearest Neighbors\n",
    "\n",
    "k-Nearest Neighbors (kNN) is a very powerful machine learning technique, but to be able to define \"nearest\" we need to start by digging into some of the most common distance metrics used in machine learning.\n",
    "\n",
    "### Distance Metrics\n",
    "\n",
    "There are a range of ways of calculating the distance between points in an n-dimensional space. We kick off the section by introducing three ways of calculating the distance between points - Manhattan, Euclidean and (the more generalized) Minkowski distance. \n",
    "\n",
    "### k-Nearest Neighbors\n",
    "\n",
    "Once we have a way to calculate distance betweeen points, now we can start to use k-Nearest Neighbors (kNN) to predict values - whether for regression (pick the average of the neighboring values) or classif\n",
    "ication (pick the most popular category of the neighbors). We introduce the concept of kNN and then help you to write a kNN classifier from scratch.\n",
    "\n",
    "### Confusion Matrices\n",
    "\n",
    "For classifiers, confusion matrices can be a powerful tool for evaluating model performance - especially in cases where false positives have a different impact than false negatives (detecting cancer, providing credit, etc). In this lesson we run you through the construction of confusion matrices for both binary and multi-categorical classifiers.\n",
    "\n",
    "### Evaluation Metrics\n",
    "\n",
    "In the next lesson, we then provide an overview of a range of evaluation metrics that can be used for classifiers such as precision and recall, accuracy and F1-score, and how to think about the right evaluation metrics to use for a given class of problem.\n",
    "\n",
    "### Finding the Best Value for k\n",
    "\n",
    "Earlier in the section, we introduced the use of kNN for classification (and regression), but we didn't spend a lot of time thinking about how to optimize k (should it be the nearest 2 points? the nearest 200?). In this lesson we show how selection of k can impact over/underfitting and how to plot results for a range of values of k and pick the optimal value for a given problem and data set.\n",
    "\n",
    "### kNN with Scikit-learn\n",
    "\n",
    "After introducing the key elements of kNN, we then take some time to run your through the usage of the optimized kNN model built right into Scikit-learn.\n",
    "\n"
   ]
  },
  {
   "cell_type": "markdown",
   "metadata": {},
   "source": [
    "## Summary\n",
    "\n",
    "In this section, you'll learn how to build your first classifier using kNN and some of the evaluation metrics for determining optimal model fit for classifiers. You'll also learn about distance metrics that will come in handy later in the course when looking at a number of other machine learning techniques.\n"
   ]
  }
 ],
 "metadata": {
  "kernelspec": {
   "display_name": "Python 3",
   "language": "python",
   "name": "python3"
  },
  "language_info": {
   "codemirror_mode": {
    "name": "ipython",
    "version": 3
   },
   "file_extension": ".py",
   "mimetype": "text/x-python",
   "name": "python",
   "nbconvert_exporter": "python",
   "pygments_lexer": "ipython3",
   "version": "3.6.6"
  }
 },
 "nbformat": 4,
 "nbformat_minor": 2
}
